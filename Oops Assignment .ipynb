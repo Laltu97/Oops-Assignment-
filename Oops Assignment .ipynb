{
 "cells": [
  {
   "cell_type": "markdown",
   "id": "3c03cda3-196a-4fbb-956c-e93f0d9a82e8",
   "metadata": {},
   "source": [
    "# OOPS ASSIGNMENT"
   ]
  },
  {
   "cell_type": "markdown",
   "id": "aa04345f-d15e-4268-9a05-64dc10bc64b5",
   "metadata": {},
   "source": [
    "## Q.1) What is object-Oriented Programming (OOP)?"
   ]
  },
  {
   "cell_type": "markdown",
   "id": "1716b5dd-23c4-44fa-8452-d018fccf316a",
   "metadata": {},
   "source": [
    "### Ans :- Object_Oriented Programming (OOP) is a programming paradigm based on the concept of \"object\" which can contain data in the form of fields.OOP focuses on grouping data and the functions that operate on that data together."
   ]
  },
  {
   "cell_type": "markdown",
   "id": "48a72085-1ab9-46ec-a8f5-32d2a53bff13",
   "metadata": {},
   "source": [
    "## Q.2) What is a class in OOP?"
   ]
  },
  {
   "cell_type": "markdown",
   "id": "409daf8e-12e7-44a4-9786-1b98fca2a619",
   "metadata": {},
   "source": [
    "### Ans :- Class is a user defined data structure that combines the methods and data members into a single entity for the production of objects classes serve as blueprints or code templates and you can make as many objects as you desire using a class."
   ]
  },
  {
   "cell_type": "markdown",
   "id": "bfd2f800-995a-4415-83e9-f7d5e8f5e996",
   "metadata": {},
   "source": [
    "## Q.3) What is an object in OOP?"
   ]
  },
  {
   "cell_type": "markdown",
   "id": "7fb975a9-ee1e-4492-a337-a9ea3c963cbd",
   "metadata": {},
   "source": [
    "### Ans :- An instance of a class is an object.It consists of a set of methods and attributes.Object have two qualities they exhibit stats and actions.Methods represent its behaviour, while attributs represent its state.We can alter its status by using its techniques."
   ]
  },
  {
   "cell_type": "markdown",
   "id": "919258f3-c600-4908-9f8e-69a4ce92608a",
   "metadata": {},
   "source": [
    "## Q.4) What is the difference between abstraction and encapsulation?"
   ]
  },
  {
   "cell_type": "markdown",
   "id": "68d3afcf-989a-451f-ab30-8ef58108b18e",
   "metadata": {},
   "source": [
    "### Ans :- Abstraction - Focuses on hiding the complex implementation details and showing only the essential information to the user.It is about \"what\" an object does rather then \"how\" it does it.   Encapsulation - Focuses on bundling the data and the methods that operate on that data within a single unit.It also involves controlling access to the internal data using access modifiers.This helps in data hiding and prevents accidental modification from outside the object."
   ]
  },
  {
   "cell_type": "code",
   "execution_count": 3,
   "id": "8153bc90-a590-4889-81c7-0210bc23ea92",
   "metadata": {},
   "outputs": [
    {
     "name": "stdout",
     "output_type": "stream",
     "text": [
      "Woof!\n"
     ]
    }
   ],
   "source": [
    "### Abstraction Example\n",
    "from abc import ABC, abstractmethod\n",
    "\n",
    "class Animal(ABC):\n",
    "    @abstractmethod\n",
    "    def sound(self):\n",
    "        pass\n",
    "\n",
    "class Dog(Animal):\n",
    "    def sound(self):\n",
    "        return \"Woof!\"\n",
    "\n",
    "dog = Dog()\n",
    "print(dog.sound())"
   ]
  },
  {
   "cell_type": "code",
   "execution_count": 4,
   "id": "b11cf49f-23a3-41ab-a64d-f8cf3fe5f2c6",
   "metadata": {},
   "outputs": [
    {
     "name": "stdout",
     "output_type": "stream",
     "text": [
      "1500\n"
     ]
    }
   ],
   "source": [
    "### Encapsulation Examples\n",
    "class BankAccount:\n",
    "    def __init__(self, balance):\n",
    "        self.__balance = balance\n",
    "\n",
    "    def deposit(self, amount):\n",
    "        self.__balance += amount\n",
    "\n",
    "    def get_balance(self):\n",
    "        return self.__balance\n",
    "\n",
    "account = BankAccount(1000)\n",
    "account.deposit(500)\n",
    "print(account.get_balance())"
   ]
  },
  {
   "cell_type": "markdown",
   "id": "382ebd47-ec2b-48ed-a658-022c4d9e0e60",
   "metadata": {},
   "source": [
    "## Q.5) What are dunder methods in Python?"
   ]
  },
  {
   "cell_type": "markdown",
   "id": "7e596cce-e834-4cb8-a37f-45ddf6d2c243",
   "metadata": {},
   "source": [
    "### Ans :- Dunder methods also known as magic methods or special methods in python are special reserved methods that are surrounded by double underscores.Dunder methods is crucial for creating custom object that behave like bulit-in types or implementing operator overloading in python."
   ]
  },
  {
   "cell_type": "code",
   "execution_count": 5,
   "id": "2a37b16d-b7ea-432c-84d2-d106f23a20a4",
   "metadata": {},
   "outputs": [
    {
     "name": "stdout",
     "output_type": "stream",
     "text": [
      "Laltu\n"
     ]
    }
   ],
   "source": [
    "class Person:\n",
    "    def __init__(self, name):\n",
    "        self.name = name\n",
    "\n",
    "p = Person(\"Laltu\")\n",
    "print(p.name)"
   ]
  },
  {
   "cell_type": "code",
   "execution_count": 6,
   "id": "92f98eaf-7022-4d5c-bfe2-5abbf2906714",
   "metadata": {},
   "outputs": [
    {
     "name": "stdout",
     "output_type": "stream",
     "text": [
      "60\n"
     ]
    }
   ],
   "source": [
    "class Number:\n",
    "    def __init__(self, value):\n",
    "        self.value = value\n",
    "    def __add__(self, other):\n",
    "        return self.value + other.value\n",
    "\n",
    "num1 = Number(10)\n",
    "num2 = Number(50)\n",
    "print(num1 + num2)"
   ]
  },
  {
   "cell_type": "markdown",
   "id": "79bf7007-08b3-41fd-bd26-8798bf2053ab",
   "metadata": {},
   "source": [
    "## Q.6) Explain the concept of inheritance in OOP."
   ]
  },
  {
   "cell_type": "markdown",
   "id": "4286d465-0051-4eba-beb2-7529a09de9f1",
   "metadata": {},
   "source": [
    "### Ans :- Ingeritance play a significant role in an object oriented programming language.In Python refers to the process of a child class receiving the parent class properties."
   ]
  },
  {
   "cell_type": "code",
   "execution_count": 1,
   "id": "ecd7f442-1b53-4fd1-9826-23cfbd817eea",
   "metadata": {},
   "outputs": [
    {
     "name": "stdout",
     "output_type": "stream",
     "text": [
      "Buay says Wof!\n"
     ]
    }
   ],
   "source": [
    "class Animal:\n",
    "    def __init__(self, name):\n",
    "        self.name = name\n",
    "    def speak(self):\n",
    "        return \"I make a sound\"\n",
    "\n",
    "class Dog(Animal):\n",
    "    def speak(self):\n",
    "        return f\"{self.name} says Wof!\"\n",
    "\n",
    "dog = Dog(\"Buay\")\n",
    "print(dog.speak())"
   ]
  },
  {
   "cell_type": "markdown",
   "id": "9e8e20f1-d503-4dd0-959e-c726ad88d420",
   "metadata": {},
   "source": [
    "## Q.7) What is polymorphism in OOP."
   ]
  },
  {
   "cell_type": "markdown",
   "id": "a625e181-3b49-4309-bc44-74ffdc36678c",
   "metadata": {},
   "source": [
    "### Ans :- Polymorphism in OOP refers to an object capacity to assume several forms and polymorphisn enables us to carry out a single activity in a variety of ways."
   ]
  },
  {
   "cell_type": "code",
   "execution_count": 2,
   "id": "5243a71a-4c23-4008-a88b-1c98de6aa978",
   "metadata": {},
   "outputs": [
    {
     "name": "stdout",
     "output_type": "stream",
     "text": [
      "5\n",
      "2\n"
     ]
    }
   ],
   "source": [
    "print(len('Laltu'))\n",
    "print(len(['Laltu','Pwskills']))"
   ]
  },
  {
   "cell_type": "markdown",
   "id": "71165a4e-71f3-4408-9c43-29859bb4ba23",
   "metadata": {},
   "source": [
    "## Q.8) How is encapsulation achieved in Python?"
   ]
  },
  {
   "cell_type": "markdown",
   "id": "ecd26cff-8027-4cd2-ae30-3b95c360433e",
   "metadata": {},
   "source": [
    "### Ans :- Encapsulation is a fundamental concept in OOP that involves bundling data and functions that operate on the data into a single unit called a class.This concept helps in achieving data hiding and abstraction which are essentital for creating modular and maintainable code."
   ]
  },
  {
   "cell_type": "code",
   "execution_count": 4,
   "id": "5ef6e602-7ec3-4267-8420-78cbceb199ce",
   "metadata": {},
   "outputs": [],
   "source": [
    "class Student:\n",
    "    def __init__(self,name,degree):\n",
    "        self.name = name\n",
    "        self.degree = degree\n",
    "    def show(self):\n",
    "        print(\"Name\", self.name, 'Degree', self.degree)"
   ]
  },
  {
   "cell_type": "code",
   "execution_count": 5,
   "id": "6eb061d9-d7d1-49f3-b781-7a3168d686cc",
   "metadata": {},
   "outputs": [
    {
     "name": "stdout",
     "output_type": "stream",
     "text": [
      "Name Laltu Degree DA\n"
     ]
    }
   ],
   "source": [
    "stud = Student(\"Laltu\", \"DA\")\n",
    "stud.show()"
   ]
  },
  {
   "cell_type": "markdown",
   "id": "b9a6a5ff-7524-48e1-ad3e-5ea77fb3f7ab",
   "metadata": {},
   "source": [
    "## Q.9) What is a constructor in Python?"
   ]
  },
  {
   "cell_type": "raw",
   "id": "59ef4cb4-6dc2-4cb5-8c66-fc46b31a4246",
   "metadata": {},
   "source": [
    "Ans :- A constructor initializes (__init__) an objects attributes when it is created."
   ]
  },
  {
   "cell_type": "code",
   "execution_count": 7,
   "id": "8e387288-8b65-4adb-939e-d550705e4d10",
   "metadata": {},
   "outputs": [
    {
     "name": "stdout",
     "output_type": "stream",
     "text": [
      "Laltu\n"
     ]
    }
   ],
   "source": [
    "class Student:\n",
    "    def __init__(self, name):\n",
    "        self.name = name\n",
    "\n",
    "stu = Student(\"Laltu\")\n",
    "print(stu.name)"
   ]
  },
  {
   "cell_type": "markdown",
   "id": "9ff9812c-e96c-4e5a-ac20-f21e49e20f19",
   "metadata": {},
   "source": [
    "## Q.10) What are class and static methods in Python?"
   ]
  },
  {
   "cell_type": "markdown",
   "id": "5e37f8b2-06da-41d8-84a4-3d67a91ab431",
   "metadata": {},
   "source": [
    "### Ans:- Class method - Class method use @classmethod and gets the class as the first argument.  Static method - Static method use @staticmethods and does not take the class or instance as the first argument."
   ]
  },
  {
   "cell_type": "code",
   "execution_count": 8,
   "id": "9f42803f-f829-43dd-a308-5c09f0555bde",
   "metadata": {},
   "outputs": [
    {
     "data": {
      "text/plain": [
       "11"
      ]
     },
     "execution_count": 8,
     "metadata": {},
     "output_type": "execute_result"
    }
   ],
   "source": [
    "class Student:\n",
    "    @classmethod\n",
    "    def total_student(cls):\n",
    "        return cls.total_student\n",
    "\n",
    "class Calculator:\n",
    "    @staticmethod\n",
    "    def add(x, y):\n",
    "        return x+y\n",
    "\n",
    "Calculator.add(5, 6)"
   ]
  },
  {
   "cell_type": "markdown",
   "id": "6ad44e85-1bac-4e24-b4b4-264916d92686",
   "metadata": {},
   "source": [
    "## Q.11) What is method overloading in Python?"
   ]
  },
  {
   "cell_type": "markdown",
   "id": "bbec60ca-9ccf-4d67-9065-fbff45504020",
   "metadata": {},
   "source": [
    "### Ans:- Python does not support traditional method overloading but it can be simulated using default arguments."
   ]
  },
  {
   "cell_type": "code",
   "execution_count": 9,
   "id": "b6fad9c5-a476-4caa-a9c6-6fbe731e013c",
   "metadata": {},
   "outputs": [
    {
     "name": "stdout",
     "output_type": "stream",
     "text": [
      "6\n",
      "15\n"
     ]
    }
   ],
   "source": [
    "class Math:\n",
    "    def add(self, a, b=0):\n",
    "        return a + b \n",
    "\n",
    "ma = Math()\n",
    "print(ma.add(6))\n",
    "print(ma.add(6, 9))"
   ]
  },
  {
   "cell_type": "markdown",
   "id": "9c0240fa-7814-4f3e-942a-b8d7a61d8e2b",
   "metadata": {},
   "source": [
    "## Q.12) What is method overriding in OOP?"
   ]
  },
  {
   "cell_type": "markdown",
   "id": "cd2257da-530a-49f7-95b9-5eeb1b4e01e1",
   "metadata": {},
   "source": [
    "### Ans:- Overriding allows a subclass to provide a specific implementation of a method already defined in the parent class."
   ]
  },
  {
   "cell_type": "code",
   "execution_count": 10,
   "id": "958488f8-efa4-42a8-a49a-6fd3271563b2",
   "metadata": {},
   "outputs": [
    {
     "name": "stdout",
     "output_type": "stream",
     "text": [
      "Student\n"
     ]
    }
   ],
   "source": [
    "class Parent:\n",
    "    def show(self):\n",
    "        print(\"Parent\")\n",
    "\n",
    "class Student(Parent):\n",
    "    def show(self):\n",
    "        print(\"Student\")\n",
    "\n",
    "stud = Student()\n",
    "stud.show()"
   ]
  },
  {
   "cell_type": "markdown",
   "id": "20d77a1e-7b9c-4c74-af26-72a1239702a5",
   "metadata": {},
   "source": [
    "## Q.13) What is a property decorator in Python?"
   ]
  },
  {
   "cell_type": "markdown",
   "id": "524de1ff-eca9-484b-bf43-08214a2d0a52",
   "metadata": {},
   "source": [
    "### Ans:- Property decorator turns a method into a read only attribute."
   ]
  },
  {
   "cell_type": "code",
   "execution_count": 12,
   "id": "f1e7fca3-0742-4dd2-aab5-3f4fe88c4ecf",
   "metadata": {},
   "outputs": [
    {
     "data": {
      "text/plain": [
       "33.6"
      ]
     },
     "execution_count": 12,
     "metadata": {},
     "output_type": "execute_result"
    }
   ],
   "source": [
    "class Home:\n",
    "    def __init__(self, radius):\n",
    "        self.radius = radius\n",
    "    @property\n",
    "    def area(self):\n",
    "        radius = self.radius\n",
    "        return 2.10*radius**2\n",
    "\n",
    "obj = Home(4)\n",
    "obj.area"
   ]
  },
  {
   "cell_type": "markdown",
   "id": "fb8b59cb-c3b2-4296-b328-f3e2440f172d",
   "metadata": {},
   "source": [
    "## Q.14) Why is polymorphism important in OOP?"
   ]
  },
  {
   "cell_type": "markdown",
   "id": "45b47234-aa97-463a-8bc8-9342f763d75d",
   "metadata": {},
   "source": [
    "### Ans:- Polymorphism important in OOP because it enables flexible code that work with different object types encouraging reusability and extensibilty."
   ]
  },
  {
   "cell_type": "markdown",
   "id": "aa841520-453b-40af-a59f-5514bef7ad93",
   "metadata": {},
   "source": [
    "## Q.15) What is an abstract class in Python?"
   ]
  },
  {
   "cell_type": "markdown",
   "id": "41f19931-531c-48b6-b25f-ef257a68abc5",
   "metadata": {},
   "source": [
    "### Ans:- An Abstract class we firstly need to import the abc module."
   ]
  },
  {
   "cell_type": "code",
   "execution_count": 14,
   "id": "295b2561-4717-4c78-a305-c1c1a4043b82",
   "metadata": {},
   "outputs": [
    {
     "name": "stdout",
     "output_type": "stream",
     "text": [
      "Wof!\n",
      "Meow!\n"
     ]
    }
   ],
   "source": [
    "from abc import ABC, abstractmethod\n",
    "class Animal(ABC):\n",
    "    @abstractmethod\n",
    "    def sound(self):\n",
    "\n",
    "        pass\n",
    "\n",
    "class Dog(Animal):\n",
    "    def sound(self):\n",
    "        return \"Wof!\"\n",
    "\n",
    "class Cat(Animal):\n",
    "    def sound(self):\n",
    "        return 'Meow!'\n",
    "\n",
    "dog = Dog()\n",
    "cat = Cat()\n",
    "print(dog.sound())\n",
    "print(cat.sound())"
   ]
  },
  {
   "cell_type": "markdown",
   "id": "5dbfecc2-3e33-429b-9816-d918a625a8a3",
   "metadata": {},
   "source": [
    "## Q.16) What are the advantages of OOP?"
   ]
  },
  {
   "cell_type": "markdown",
   "id": "9410d780-1c73-4e72-9bc8-72f10479ae50",
   "metadata": {},
   "source": [
    "### Ans:- i) Encapsulation (ii) Inheritance (iii) Polymorphism (iv) Code reusability (v) Easier maintenance"
   ]
  },
  {
   "cell_type": "markdown",
   "id": "6c23d3a0-19bc-44d7-9680-0d25e3a672be",
   "metadata": {},
   "source": [
    "## Q.17) What is the difference between a class variable and an instance variable?"
   ]
  },
  {
   "cell_type": "markdown",
   "id": "972af404-8ab7-4c88-88b6-e77b2e399b1a",
   "metadata": {},
   "source": [
    "### Ans:- Class variable - (i)Shared among all instances(ii)Defined inside the class but outside any methods(iii)Changes to a class variable affect all instances. Instance variable - (i)Unique to each instance of class(ii)Defind inside the constructor(__init__) using self(iii)Changes to an instance variable affect only that instance."
   ]
  },
  {
   "cell_type": "code",
   "execution_count": 15,
   "id": "a98c98e3-2680-45b8-85d9-53bf0125967b",
   "metadata": {},
   "outputs": [
    {
     "name": "stdout",
     "output_type": "stream",
     "text": [
      "4\n",
      "4\n"
     ]
    }
   ],
   "source": [
    "class Car:\n",
    "    wheels = 4\n",
    "    def __init__(self, brand):\n",
    "        self.brand = brand\n",
    "\n",
    "car1 = Car(\"BMW\")\n",
    "car2 = Car(\"Audi\")\n",
    "\n",
    "print(car1.wheels)\n",
    "print(car2.wheels)"
   ]
  },
  {
   "cell_type": "code",
   "execution_count": 17,
   "id": "31848d08-3ea7-490f-87a5-022d31459b20",
   "metadata": {},
   "outputs": [
    {
     "name": "stdout",
     "output_type": "stream",
     "text": [
      "8\n",
      "8\n"
     ]
    }
   ],
   "source": [
    "## class variable (changing class variable)\n",
    "Car.wheels = 8\n",
    "print(car1.wheels)\n",
    "print(car2.wheels)"
   ]
  },
  {
   "cell_type": "code",
   "execution_count": 18,
   "id": "79ddaf8f-cb89-4140-8649-a0cece190970",
   "metadata": {},
   "outputs": [
    {
     "name": "stdout",
     "output_type": "stream",
     "text": [
      "Laltu 28\n",
      "Bhola 30\n"
     ]
    }
   ],
   "source": [
    "### Example Instance variables\n",
    "class Person:\n",
    "    def __init__(self, name, age):\n",
    "        self.name = name\n",
    "        self.age = age\n",
    "\n",
    "per1 = Person(\"Laltu\", 28)\n",
    "per2 = Person(\"Bhola\", 30)\n",
    "print(per1.name, per1.age)\n",
    "print(per2.name, per2.age)"
   ]
  },
  {
   "cell_type": "code",
   "execution_count": 19,
   "id": "d7bf166d-9b5d-4c11-a9ee-dcb86fd35ff1",
   "metadata": {},
   "outputs": [
    {
     "name": "stdout",
     "output_type": "stream",
     "text": [
      "Laltu 25\n",
      "Bhola 30\n"
     ]
    }
   ],
   "source": [
    "### Instance changing variable\n",
    "per1.age = 25\n",
    "print(per1.name, per1.age)\n",
    "print(per2.name, per2.age)"
   ]
  },
  {
   "cell_type": "markdown",
   "id": "0c3ffce7-e2e3-4dc1-8d9d-c987be27c89c",
   "metadata": {},
   "source": [
    "## Q.18) What is multiple inheritance in Python?"
   ]
  },
  {
   "cell_type": "markdown",
   "id": "eb06df76-2e31-43ac-90ac-471d89ccc9f6",
   "metadata": {},
   "source": [
    "### Ans:- A class can inherit from more than one base class."
   ]
  },
  {
   "cell_type": "code",
   "execution_count": 20,
   "id": "1af66afa-6989-46df-bc08-dec770bc63bd",
   "metadata": {},
   "outputs": [
    {
     "name": "stdout",
     "output_type": "stream",
     "text": [
      "Method from class DA\n",
      "Method from class Java\n",
      "Method from class Course\n"
     ]
    }
   ],
   "source": [
    "class A:\n",
    "    def method_A(self):\n",
    "        return \"Method from class DA\"\n",
    "\n",
    "class B:\n",
    "    def method_B(self):\n",
    "        return \"Method from class Java\"\n",
    "\n",
    "class C(A, B):\n",
    "    def method_C(self):\n",
    "        return \"Method from class Course\"\n",
    "\n",
    "obj = C()\n",
    "print(obj.method_A())\n",
    "print(obj.method_B())\n",
    "print(obj.method_C())"
   ]
  },
  {
   "cell_type": "markdown",
   "id": "a6fdd65e-e9f5-4f9b-90fd-9748d813aa50",
   "metadata": {},
   "source": [
    "## Q.19) Explain the purpose of\"__str__'and'__repr__\" methods in Python."
   ]
  },
  {
   "cell_type": "raw",
   "id": "31744927-2e06-43b0-9f6a-27958da7c3e2",
   "metadata": {},
   "source": [
    "Ans:- __str__ For readable output\n",
    "      __repr__ for developer output"
   ]
  },
  {
   "cell_type": "code",
   "execution_count": 21,
   "id": "8a3a5bc7-92ca-42b0-8656-dcab8c8df4e0",
   "metadata": {},
   "outputs": [],
   "source": [
    "class Person:\n",
    "    def __init__(self, name, age):\n",
    "        self.name = name\n",
    "        self.age = age\n",
    "    def __str__(self):\n",
    "        return f\"Person: {self.name}, Age: {self.age}\"\n",
    "    def __repr__(self):\n",
    "        return f'Person(\"{self.name}\", {self.age})'"
   ]
  },
  {
   "cell_type": "code",
   "execution_count": 22,
   "id": "06768243-265c-4751-8320-bacae9d867c9",
   "metadata": {},
   "outputs": [
    {
     "name": "stdout",
     "output_type": "stream",
     "text": [
      "Person: Laltu, Age: 28\n",
      "Person(\"Laltu\", 28)\n"
     ]
    }
   ],
   "source": [
    "p = Person(\"Laltu\", 28)\n",
    "print(p)\n",
    "print(repr(p))"
   ]
  },
  {
   "cell_type": "markdown",
   "id": "51474795-0a28-4645-9b08-93b47c87d668",
   "metadata": {},
   "source": [
    "## Q.20) What is the significance of the 'super()' function in Python?"
   ]
  },
  {
   "cell_type": "markdown",
   "id": "dbae7cc7-f40a-407a-b908-43e7d35c76e6",
   "metadata": {},
   "source": [
    "### Ans:- The super () function is used to call methods from a parent class within a subclass. It is particularly useful in the context of inheritance,especially,with multiple resolution order correctly.The code more maintainable and especially when the inheritance hierarchy changes."
   ]
  },
  {
   "cell_type": "code",
   "execution_count": 23,
   "id": "71effe39-2e60-4349-b8fe-a5fdac2ad46b",
   "metadata": {},
   "outputs": [
    {
     "name": "stdout",
     "output_type": "stream",
     "text": [
      "Hello, I am Laltu! I am 28 years old.\n"
     ]
    }
   ],
   "source": [
    "class Parent:\n",
    "    def __init__(self, name):\n",
    "        self.name = name\n",
    "    def greet(self):\n",
    "        return f\"Hello, I am {self.name}!\"\n",
    "class Child(Parent):\n",
    "    def __init__(self, name, age):\n",
    "        super().__init__(name)\n",
    "        self.age = age\n",
    "    def greet(self):\n",
    "        return f\"{super().greet()} I am {self.age} years old.\"\n",
    "\n",
    "c1 = Child(\"Laltu\", 28)\n",
    "print(c1.greet())"
   ]
  },
  {
   "cell_type": "markdown",
   "id": "8f99ae90-643d-46d1-a255-0974d30856e0",
   "metadata": {},
   "source": [
    "## Q.21) Whta is the significance of the __del__ method in Python"
   ]
  },
  {
   "cell_type": "raw",
   "id": "8de6e0fa-11e0-4314-ba76-55e444650aa1",
   "metadata": {},
   "source": [
    "Ans:- The __del__method is a special method that is called when an object is about to be destroyed.It allowys you to perform cleanup operations such ass releasing external resources before the object is removed from memory."
   ]
  },
  {
   "cell_type": "code",
   "execution_count": 1,
   "id": "8cd0206c-29ad-4a9a-adb4-38e9b2f313d2",
   "metadata": {},
   "outputs": [
    {
     "name": "stdout",
     "output_type": "stream",
     "text": [
      "Object Demo created.\n"
     ]
    }
   ],
   "source": [
    "class Example:\n",
    "    def __init__(self, name):\n",
    "        self.name = name\n",
    "        print(f\"Object {self.name} created.\")\n",
    "obj = Example(\"Demo\")"
   ]
  },
  {
   "cell_type": "code",
   "execution_count": 2,
   "id": "41f7d5f8-d1ec-4b02-ade8-44abc4adb556",
   "metadata": {},
   "outputs": [],
   "source": [
    "del obj"
   ]
  },
  {
   "cell_type": "markdown",
   "id": "4468e661-3f37-4875-a2e0-080d73c13ad3",
   "metadata": {},
   "source": [
    "## Q.22) What is the difference between @staticmethod and @classmethod in Python?"
   ]
  },
  {
   "cell_type": "markdown",
   "id": "cba72ac5-c92e-420e-9dd6-380dce4a7643",
   "metadata": {},
   "source": [
    "### Ans:- @Staticmethod - No access to class or instance      @Classmethod - Access to the class can modify class state."
   ]
  },
  {
   "cell_type": "markdown",
   "id": "7d064733-4d0c-41ca-8a9d-e855afa6c66b",
   "metadata": {},
   "source": [
    "## Q.23) How does polymorphism work in Python with inheritance?"
   ]
  },
  {
   "cell_type": "markdown",
   "id": "b7c3b7a3-9ba5-43db-9d79-551bfcab8a6b",
   "metadata": {},
   "source": [
    "### Ans:- Polymorphism in Python works seamlessly with inheritance allowing subclasses to define methods that override or extend those in a parent class while maintaining a common interface.This enables code flexibilty different object can be treated uniformly while exhibiting unique behaviors."
   ]
  },
  {
   "cell_type": "code",
   "execution_count": 3,
   "id": "1502b379-8a71-4018-aa03-364e97a63ff4",
   "metadata": {},
   "outputs": [
    {
     "name": "stdout",
     "output_type": "stream",
     "text": [
      "Dog barks\n"
     ]
    }
   ],
   "source": [
    "class Animal:\n",
    "    def speak(self):\n",
    "        print(\"Animal\")\n",
    "\n",
    "class Dog(Animal):\n",
    "    def speak(self):\n",
    "        print(\"Dog barks\")\n",
    "\n",
    "def make_sound(animal:Animal):\n",
    "    animal.speak()\n",
    "\n",
    "make_sound(Dog())"
   ]
  },
  {
   "cell_type": "markdown",
   "id": "bbb49cd4-6e95-4508-846d-515f247ee18e",
   "metadata": {},
   "source": [
    "## Q.24) What is method chaining in Python OOP?"
   ]
  },
  {
   "cell_type": "markdown",
   "id": "e0ec467f-d727-45ac-be6a-0bcae46466d1",
   "metadata": {},
   "source": [
    "### Ans:- It allows calling multiple methods in a single line using return self."
   ]
  },
  {
   "cell_type": "code",
   "execution_count": 6,
   "id": "afec7148-6686-4499-a21a-b9192c4d4144",
   "metadata": {},
   "outputs": [],
   "source": [
    "class Student:\n",
    "    def set_name(self, name):\n",
    "        self.name = name\n",
    "        return self\n",
    "    def set_age(self, age):\n",
    "        self.age = age\n",
    "        return self\n",
    "    def show(self):\n",
    "        return f\"Name: {self.name}, Age: {self.age}\""
   ]
  },
  {
   "cell_type": "code",
   "execution_count": 7,
   "id": "deb43527-3ccb-4f49-a22c-cb54b5508909",
   "metadata": {},
   "outputs": [
    {
     "name": "stdout",
     "output_type": "stream",
     "text": [
      "Name: Laltu, Age: 28\n"
     ]
    }
   ],
   "source": [
    "stud = Student().set_name(\"Laltu\").set_age(28)\n",
    "\n",
    "print(stud.show())"
   ]
  },
  {
   "cell_type": "markdown",
   "id": "912ac274-e9f8-43a5-a75b-eeda9115b82b",
   "metadata": {},
   "source": [
    "## Q.25) What is the purpose of the __cal__method in Python?"
   ]
  },
  {
   "cell_type": "raw",
   "id": "c10bbc78-edda-48ac-837a-0119b994fb49",
   "metadata": {},
   "source": [
    "Ans:-The __call__ method is a special dunder method that allows you to make instances of a class callable like regular functions."
   ]
  },
  {
   "cell_type": "code",
   "execution_count": 9,
   "id": "ec7694d2-1429-4804-a903-d3e6122651ce",
   "metadata": {},
   "outputs": [
    {
     "name": "stdout",
     "output_type": "stream",
     "text": [
      "10\n",
      "42\n"
     ]
    }
   ],
   "source": [
    "class Multiplier:\n",
    "    def __init__(self,factor):\n",
    "        self.factor = factor\n",
    "    def __call__(self,x):\n",
    "        return self.factor * x\n",
    "\n",
    "mult1 = Multiplier(2)\n",
    "mult2 = Multiplier(6)\n",
    "\n",
    "print(mult1(5))\n",
    "print(mult2(7))"
   ]
  },
  {
   "cell_type": "markdown",
   "id": "96110622-5f5a-490f-8cdb-dcd4d04025af",
   "metadata": {},
   "source": [
    "# Practical Questions :-"
   ]
  },
  {
   "cell_type": "markdown",
   "id": "422d0160-a9f6-40d0-b109-a3f2d0efe15e",
   "metadata": {},
   "source": [
    "## Q.1) Create a parent class Animal with a method speak() that prints a generic message. Create a child class Dog that overrides the speak() method to print \"Bark!\"."
   ]
  },
  {
   "cell_type": "code",
   "execution_count": 10,
   "id": "061b79cd-a420-43ae-aac9-fe52d967d275",
   "metadata": {},
   "outputs": [
    {
     "name": "stdout",
     "output_type": "stream",
     "text": [
      "This animal makes a sound.\n"
     ]
    }
   ],
   "source": [
    "class Animal:\n",
    "    def speak(self):\n",
    "        print(\"This animal makes a sound.\")\n",
    "\n",
    "class Dog(Animal):\n",
    "    def speak(self):\n",
    "        print(\"Baow!\")\n",
    "\n",
    "pet = Animal()\n",
    "pet.speak()"
   ]
  },
  {
   "cell_type": "code",
   "execution_count": 11,
   "id": "9c89b9fa-26a3-4295-a261-6ae1cd1763a4",
   "metadata": {},
   "outputs": [
    {
     "name": "stdout",
     "output_type": "stream",
     "text": [
      "Baow!\n"
     ]
    }
   ],
   "source": [
    "d1 = Dog()\n",
    "d1.speak()"
   ]
  },
  {
   "cell_type": "markdown",
   "id": "8fe2fe13-2fac-4640-b684-7f66c4f9569f",
   "metadata": {},
   "source": [
    "## Q.2) Write a program to create an abstract class Shape with a method area(). Derive classes Circle and Rectangle from it and implement the area() method in both."
   ]
  },
  {
   "cell_type": "code",
   "execution_count": 14,
   "id": "5614a137-70b1-4fd6-9d33-21426b24f704",
   "metadata": {},
   "outputs": [],
   "source": [
    "from abc import ABC, abstractmethod\n",
    "import math\n",
    "class Shape(ABC):\n",
    "    @abstractmethod\n",
    "    def area(self):\n",
    "        pass\n",
    "class Circle(Shape):\n",
    "    def __init__(self, radius):\n",
    "        self.radius = radius\n",
    "    def area(self):\n",
    "        return math.pi * self.radius ** 2\n",
    "\n",
    "class Rectangle(Shape):\n",
    "    def __init__(self, width, height):\n",
    "        self.width = width\n",
    "        self.height = height\n",
    "    def area(self):\n",
    "        return self.width * self.height"
   ]
  },
  {
   "cell_type": "code",
   "execution_count": 19,
   "id": "27c40e5f-69c2-44f6-877a-48ef2a9ae1c1",
   "metadata": {},
   "outputs": [
    {
     "name": "stdout",
     "output_type": "stream",
     "text": [
      "Circle Area: 78.54\n",
      "Rectangle Area: 24\n"
     ]
    }
   ],
   "source": [
    "cir = Circle(5)\n",
    "print(f\"Circle Area: {cir.area():.2f}\")\n",
    "\n",
    "rec = Rectangle(4, 6)\n",
    "print(f\"Rectangle Area: {rec.area()}\")"
   ]
  },
  {
   "cell_type": "markdown",
   "id": "04725314-ea33-45a4-bdfa-4e2e054a2f78",
   "metadata": {},
   "source": [
    "## Q.3) Implement a multi-level inheritance scenario where a class Vehicle has an attribute type. Derive a class Car and further derive a class ElectricCar that adds a battery attribute."
   ]
  },
  {
   "cell_type": "code",
   "execution_count": 26,
   "id": "536ac5a8-693a-4105-add9-e949d5c6385c",
   "metadata": {},
   "outputs": [],
   "source": [
    "class Vehicle:\n",
    "    def __init__(self, vehicle_type):\n",
    "        self.vehicle_type = vehicle_type\n",
    "        \n",
    "    def show_type(self):\n",
    "        print(f\"Vehicle type: {self.vehicle_type}\")\n",
    "\n",
    "class Car(Vehicle):\n",
    "    def __init__(self, brand, model, vehicle_type=\"Car\"):\n",
    "        super().__init__(vehicle_type)\n",
    "        self.brand = brand\n",
    "        self.model = model\n",
    "    def show_details(self):\n",
    "        print(f\"Brand: {self.brand}, Model: {self.model}\")\n",
    "\n",
    "class ElectricCar(Car):\n",
    "    def __init__(self, brand, model, battery_capacity):\n",
    "        super().__init__(brand, model)\n",
    "        self.battery_capacity = battery_capacity\n",
    "    def show_battery(self):\n",
    "        print(f\"Battery capacity: {self.battery_capacity} kwh\")"
   ]
  },
  {
   "cell_type": "code",
   "execution_count": 27,
   "id": "806c0a98-1805-430f-a9b2-e228b55cdcb1",
   "metadata": {},
   "outputs": [
    {
     "name": "stdout",
     "output_type": "stream",
     "text": [
      "Vehicle type: Bus\n",
      "Vehicle type: Car\n",
      "Brand: Audi, Model: Q4\n",
      "Vehicle type: Car\n",
      "Brand: Tesla, Model: Model S\n",
      "Battery capacity: 500 kwh\n"
     ]
    }
   ],
   "source": [
    "veh1 = Vehicle(\"Bus\")\n",
    "veh1.show_type()\n",
    "\n",
    "car2 = Car(\"Audi\", \"Q4\")\n",
    "car2.show_type()\n",
    "car2.show_details()\n",
    "\n",
    "elec = ElectricCar(\"Tesla\", \"Model S\", 500)\n",
    "elec.show_type()\n",
    "elec.show_details()\n",
    "elec.show_battery()"
   ]
  },
  {
   "cell_type": "markdown",
   "id": "947504b1-e1af-4e23-9552-5051156d4d6e",
   "metadata": {},
   "source": [
    "## Q.4) Demonstrate polymorphism by creating a base class Bird with a method fly(). Create two derived classes Sparrow and Penguin that override the fly() method."
   ]
  },
  {
   "cell_type": "code",
   "execution_count": 28,
   "id": "0a3e7dbe-7f1d-4319-b179-414f99197bbe",
   "metadata": {},
   "outputs": [],
   "source": [
    "class Bird:\n",
    "    def fly(self):\n",
    "        print(\"Some Birds can fly!\")\n",
    "class Sparrow(Bird):\n",
    "    def fly(self):\n",
    "        print(\"Sparrow flies high in the sky.\")\n",
    "class Penguin(Bird):\n",
    "    def fly(self):\n",
    "        print(\"Penguins can not fly, they swim instead!\")"
   ]
  },
  {
   "cell_type": "code",
   "execution_count": 29,
   "id": "55dcc57a-b3ef-4417-bb4d-d64ba05a3846",
   "metadata": {},
   "outputs": [
    {
     "name": "stdout",
     "output_type": "stream",
     "text": [
      "Sparrow flies high in the sky.\n",
      "Penguins can not fly, they swim instead!\n",
      "Some Birds can fly!\n"
     ]
    }
   ],
   "source": [
    "bird1 =[Sparrow(), Penguin(), Bird()]\n",
    "for bird in bird1:\n",
    "    bird.fly()"
   ]
  },
  {
   "cell_type": "markdown",
   "id": "77d8f3db-07d3-4732-b5d8-262790f05659",
   "metadata": {},
   "source": [
    "## Q.5)Write a program to demonstrate encapsulation by creating a class Bank Account with private attributes balance and methods to deposit, withdraw, and check balance."
   ]
  },
  {
   "cell_type": "code",
   "execution_count": 35,
   "id": "2710f195-163d-4cd9-a89c-905e67d33dcb",
   "metadata": {},
   "outputs": [],
   "source": [
    "class Bank_account:\n",
    "    def __init__(self, account_holder, initial_balance=0):\n",
    "        self.__balance = 0\n",
    "        self.account_holder = account_holder\n",
    "\n",
    "    def deposit(self, amount):\n",
    "        if amount > 0:\n",
    "            self.__balance += amount\n",
    "            print(f\"Deposited: {amount:.2f}\")\n",
    "        else:\n",
    "            print(\"Deposit amount must be positive.\")\n",
    "    def withdraw(self, amount):\n",
    "        if 0 < amount <= self.__balance:\n",
    "            self.__balance -= amount\n",
    "            print(f\"Withdrew: {amount:.2f}\")\n",
    "        else:\n",
    "            print(\"Insufficient balance or invalid withdrawal amount.\")\n",
    "    def check_balance(self):\n",
    "        print(f\"Current balance: {self.__balance:.2f}\")"
   ]
  },
  {
   "cell_type": "code",
   "execution_count": 36,
   "id": "2fb0f75b-57df-4e43-9404-52240b767f7c",
   "metadata": {},
   "outputs": [
    {
     "name": "stdout",
     "output_type": "stream",
     "text": [
      "Deposited: 5000.00\n",
      "Withdrew: 2500.00\n",
      "Current balance: 2500.00\n"
     ]
    }
   ],
   "source": [
    "account = Bank_account(\"Laltu Kaibartta\", 1000)\n",
    "account.deposit(5000)\n",
    "account.withdraw(2500)\n",
    "account.check_balance()"
   ]
  },
  {
   "cell_type": "markdown",
   "id": "3982b5fb-e5b6-43b4-a3aa-5a53c50797e9",
   "metadata": {},
   "source": [
    "## Q.6)  Demonstrate runtime polymorphism using a method play() in a base class Instrument. Derive classes Guitar and Piano that implement their own version of play()."
   ]
  },
  {
   "cell_type": "code",
   "execution_count": 37,
   "id": "88335fea-ee71-46ec-b82a-e96ce5acf479",
   "metadata": {},
   "outputs": [],
   "source": [
    "class Instrument:\n",
    "    def play(sel):\n",
    "        print(\"Instrument sound.\")\n",
    "\n",
    "class Guitar(Instrument):\n",
    "    def play(self):\n",
    "        print(\"Playing the guitar: Strumming chords and melodies.\")\n",
    "\n",
    "class Piano(Instrument):\n",
    "    def play(self):\n",
    "        print(\"Playing the piano: Create harmonius tunes.\")"
   ]
  },
  {
   "cell_type": "code",
   "execution_count": 38,
   "id": "391a2e15-e613-4086-8c07-15cfe072f070",
   "metadata": {},
   "outputs": [
    {
     "name": "stdout",
     "output_type": "stream",
     "text": [
      "Playing the guitar: Strumming chords and melodies.\n",
      "Playing the piano: Create harmonius tunes.\n",
      "Instrument sound.\n"
     ]
    }
   ],
   "source": [
    "instruments = [Guitar(), Piano(), Instrument()]\n",
    "for instrument in instruments:\n",
    "    instrument.play()"
   ]
  },
  {
   "cell_type": "markdown",
   "id": "b82c73e2-1b93-4664-84f8-0c17744e4e7b",
   "metadata": {},
   "source": [
    "## Q.7) Create a class MathOperations with a class method add_numbers() to add two numbers and a static method subtract_numbers() to subtract two numbers."
   ]
  },
  {
   "cell_type": "code",
   "execution_count": 39,
   "id": "9b21faf7-2489-45fa-a140-9517bc39aaa5",
   "metadata": {},
   "outputs": [],
   "source": [
    "class Math:\n",
    "    @classmethod\n",
    "    def add_numbers(cls, a, b):\n",
    "        return a + b\n",
    "    @staticmethod\n",
    "    def subtract_numbers(a, b):\n",
    "        return a - b"
   ]
  },
  {
   "cell_type": "code",
   "execution_count": 40,
   "id": "3992b5c1-ba26-43b1-9b9f-5b08cb0e1577",
   "metadata": {},
   "outputs": [
    {
     "name": "stdout",
     "output_type": "stream",
     "text": [
      "Sum: 35\n"
     ]
    }
   ],
   "source": [
    "sum_result = Math.add_numbers(10, 25)\n",
    "print(f\"Sum: {sum_result}\")"
   ]
  },
  {
   "cell_type": "code",
   "execution_count": 41,
   "id": "c4b10814-bc22-4281-b935-6d82ec60fe2f",
   "metadata": {},
   "outputs": [
    {
     "name": "stdout",
     "output_type": "stream",
     "text": [
      "Difference: -15\n"
     ]
    }
   ],
   "source": [
    "differ = Math.subtract_numbers(10, 25)\n",
    "print(f\"Difference: {differ}\")"
   ]
  },
  {
   "cell_type": "markdown",
   "id": "0ca236a2-522a-451a-9cdf-184ec0c56dd3",
   "metadata": {},
   "source": [
    "## Q.8)  Implement a class Person with a class method to count the total number of persons created."
   ]
  },
  {
   "cell_type": "code",
   "execution_count": 42,
   "id": "93bbacce-235d-4533-8759-82059bbebd4a",
   "metadata": {},
   "outputs": [],
   "source": [
    "class Student:\n",
    "    count = 0\n",
    "    def __init__(self, name):\n",
    "        self.name = name\n",
    "        Student.count += 1\n",
    "\n",
    "    @classmethod\n",
    "    def total_students(cls):\n",
    "        return f\"Total students: {cls.count}\""
   ]
  },
  {
   "cell_type": "code",
   "execution_count": 43,
   "id": "505c3971-cfae-4b93-b6c9-c6ce0fd93452",
   "metadata": {},
   "outputs": [
    {
     "name": "stdout",
     "output_type": "stream",
     "text": [
      "Total students: 3\n"
     ]
    }
   ],
   "source": [
    "stud1 = Student(\"Laltu\")\n",
    "stud2 = Student(\"Bholanath\")\n",
    "stud3 = Student(\"Koushik\")\n",
    "print(Student.total_students())"
   ]
  },
  {
   "cell_type": "markdown",
   "id": "76b3e7f5-4928-4e10-808a-af66ce4c6e41",
   "metadata": {},
   "source": [
    "## Q.9)Write a class Fraction with attributes numerator and denominator. Override the str method to display the fraction as \"numerator/denominator\"."
   ]
  },
  {
   "cell_type": "code",
   "execution_count": 1,
   "id": "afebb7aa-eb50-4cfe-8847-0b7e6a58ac64",
   "metadata": {},
   "outputs": [],
   "source": [
    "class Fraction:\n",
    "    def __init__(self, numerator, denominator):\n",
    "        if denominator == 0:\n",
    "            raise ValueError(\"Denominator cannot be zero.\")\n",
    "        self.numerator = numerator\n",
    "        self.denominator = denominator\n",
    "\n",
    "    def __str__(self):\n",
    "        return f\"{self.numerator}/{self.denominator}\""
   ]
  },
  {
   "cell_type": "code",
   "execution_count": 2,
   "id": "bf2cfa79-c95a-4c7a-8e53-2db3e8fbb05c",
   "metadata": {},
   "outputs": [
    {
     "name": "stdout",
     "output_type": "stream",
     "text": [
      "4/5\n"
     ]
    }
   ],
   "source": [
    "fra = Fraction(4, 5)\n",
    "print(fra)"
   ]
  },
  {
   "cell_type": "markdown",
   "id": "b56dbf1f-d644-4345-bd2e-396b5c540d4d",
   "metadata": {},
   "source": [
    "## Q.10) Demonstrate operator overloading by creating a class Vector and overriding the add method to add two vectors."
   ]
  },
  {
   "cell_type": "code",
   "execution_count": 16,
   "id": "2d9f5dbc-b5af-4324-b097-7a7aaa2f1dcf",
   "metadata": {},
   "outputs": [],
   "source": [
    "class Vector:\n",
    "    def __init__(self, x, y):\n",
    "        self.x = x\n",
    "        self.y = y\n",
    "        \n",
    "    def __add__(self, other):\n",
    "        if isinstance(other, Vector):\n",
    "            return Vector(self.x + other.x, self.y + other.y)\n",
    "        raise TypeError(\"Operands must be instances of Vector\")\n",
    "        \n",
    "    def __str__(self):\n",
    "        return f\"({self.x}, {self.y})\""
   ]
  },
  {
   "cell_type": "code",
   "execution_count": 19,
   "id": "78d63c40-aac5-4a5c-9a1f-bd5fc6567210",
   "metadata": {},
   "outputs": [],
   "source": [
    "vec1 = Vector(2, 3)\n",
    "vec2 = Vector(5, 6)\n",
    "result = vec1 + vec2"
   ]
  },
  {
   "cell_type": "code",
   "execution_count": 20,
   "id": "441b9183-e14a-408c-a85d-b92e70ae5314",
   "metadata": {},
   "outputs": [
    {
     "name": "stdout",
     "output_type": "stream",
     "text": [
      "(7, 9)\n"
     ]
    }
   ],
   "source": [
    "print(result)"
   ]
  },
  {
   "cell_type": "markdown",
   "id": "4dabb5b2-3045-4095-9fc6-c6829551cf67",
   "metadata": {},
   "source": [
    "## Q.11) Create a class Person with attributes name and age. Add a method greet() that prints \"Hello, my name is {name} and I am {age} years old.\""
   ]
  },
  {
   "cell_type": "code",
   "execution_count": 21,
   "id": "1acfb906-3acb-46b6-9ca7-b68fd2e40ef1",
   "metadata": {},
   "outputs": [],
   "source": [
    "class Student:\n",
    "    def __init__(self, name, age):\n",
    "        self.name = name\n",
    "        self.age = age\n",
    "    def greet(self):\n",
    "        print(f\"Hello, my name is {self.name} and I am {self.age} years old.\")"
   ]
  },
  {
   "cell_type": "code",
   "execution_count": 23,
   "id": "d17664a5-90e6-4180-a21d-e8bb1e6b5e92",
   "metadata": {},
   "outputs": [
    {
     "name": "stdout",
     "output_type": "stream",
     "text": [
      "Hello, my name is Laltu and I am 28 years old.\n"
     ]
    }
   ],
   "source": [
    "stud = Student(\"Laltu\", 28)\n",
    "stud.greet()"
   ]
  },
  {
   "cell_type": "markdown",
   "id": "7fd54829-260b-4323-869a-cfd34f295449",
   "metadata": {},
   "source": [
    "## Q.12) Implement a class Student with attributes name and grades. Create a method average_grade() to compute the average of the grades."
   ]
  },
  {
   "cell_type": "code",
   "execution_count": 24,
   "id": "bd191f9f-4bab-46be-a647-0598e1d0a13a",
   "metadata": {},
   "outputs": [],
   "source": [
    "class Student:\n",
    "    def __init__(self, name, grades):\n",
    "        self.name = name\n",
    "        self.grades = grades\n",
    "    def average_grade(self):\n",
    "        if self.grades:\n",
    "            return sum(self.grades) / len(self.grades)\n",
    "        return 0"
   ]
  },
  {
   "cell_type": "code",
   "execution_count": 25,
   "id": "41444c16-9d7b-4e64-9cdb-3fe4e4921452",
   "metadata": {},
   "outputs": [
    {
     "name": "stdout",
     "output_type": "stream",
     "text": [
      "Laltu's Average Grade: 83.00\n"
     ]
    }
   ],
   "source": [
    "stud = Student(\"Laltu\", [85, 75, 92, 80])\n",
    "print(f\"{stud.name}'s Average Grade: {stud.average_grade():.2f}\")"
   ]
  },
  {
   "cell_type": "markdown",
   "id": "28f015b0-8179-4271-b0bd-deb85e3af7f2",
   "metadata": {},
   "source": [
    "## Q.13) Create a class Rectangle with methods set_dimensions() to set the dimensions and area() to calculate the area."
   ]
  },
  {
   "cell_type": "code",
   "execution_count": 26,
   "id": "923f05e5-c95d-4d57-98f1-bf875dcbcadc",
   "metadata": {},
   "outputs": [],
   "source": [
    "class Rectangle:\n",
    "    def __init__(self, width=0, height=0):\n",
    "        self.width = width\n",
    "        self.height = height\n",
    "    def set_dimensions(self, width, height):\n",
    "        self.width = width\n",
    "        self.height = height\n",
    "    def area(self):\n",
    "        return self.width * self.height"
   ]
  },
  {
   "cell_type": "code",
   "execution_count": 29,
   "id": "a71833c3-e118-4c16-acfc-7d9f3f4f9943",
   "metadata": {},
   "outputs": [
    {
     "name": "stdout",
     "output_type": "stream",
     "text": [
      "Rectangle Area: 40\n"
     ]
    }
   ],
   "source": [
    "rec = Rectangle()\n",
    "rec.set_dimensions(4, 10)\n",
    "print(f\"Rectangle Area: {rec.area()}\")"
   ]
  },
  {
   "cell_type": "markdown",
   "id": "e3600295-0ad4-4feb-90ba-c50d89cf17ca",
   "metadata": {},
   "source": [
    "## Q.14)Create a class Employee with a method calculate_salary() that computes the salary based on hours worked and hourly rate. Create a derived class Manager that adds a bonus to the salary."
   ]
  },
  {
   "cell_type": "code",
   "execution_count": 1,
   "id": "d228c672-e271-44e0-b1bb-a61738a8992d",
   "metadata": {},
   "outputs": [],
   "source": [
    "class Employee:\n",
    "    def __init__(self, name, hourly_rate, hours_worked):\n",
    "        self.name = name\n",
    "        self.hourly_rate = hourly_rate\n",
    "        self.hours_worked = hours_worked\n",
    "    def calculate_salary(self):\n",
    "        return self.hourly_rate * self.hours_worked\n",
    "class Manager(Employee):\n",
    "    def __init__(self, name, hourly_rate, hours_worked, bonus):\n",
    "        super().__init__(name, hourly_rate, hours_worked)\n",
    "        self.bonus = bonus\n",
    "    def calculate_salary(self):\n",
    "        return super().calculate_salary() + self.bonus"
   ]
  },
  {
   "cell_type": "code",
   "execution_count": 2,
   "id": "2914166d-074a-4003-9bc4-c256ac9faef5",
   "metadata": {},
   "outputs": [
    {
     "name": "stdout",
     "output_type": "stream",
     "text": [
      "Laltu's Salary: $240\n",
      "Bhola's Salary: $330\n"
     ]
    }
   ],
   "source": [
    "emp1 = Employee(\"Laltu\", 10, 24)\n",
    "emp2 = Employee(\"Bhola\", 15, 22)\n",
    "print(f\"{emp1.name}'s Salary: ${emp1.calculate_salary()}\")\n",
    "print(f\"{emp2.name}'s Salary: ${emp2.calculate_salary()}\")"
   ]
  },
  {
   "cell_type": "code",
   "execution_count": 5,
   "id": "51950326-70bc-42e4-87e6-f698cc948805",
   "metadata": {},
   "outputs": [
    {
     "name": "stdout",
     "output_type": "stream",
     "text": [
      "Koushik's Salary: $1100\n"
     ]
    }
   ],
   "source": [
    "mana = Manager(\"Koushik\", 30, 20, 500)\n",
    "print(f\"{mana.name}'s Salary: ${mana.calculate_salary()}\")"
   ]
  },
  {
   "cell_type": "markdown",
   "id": "bfb6f3a8-5457-484c-8228-80a7e4fd4ba9",
   "metadata": {},
   "source": [
    "## Q.15) Create a class Product with attributes name, price, and quantity. Implement a method total_price() that calculates the total price of the product."
   ]
  },
  {
   "cell_type": "code",
   "execution_count": 6,
   "id": "66cfc0bb-3ae8-45d1-8654-e84de1605774",
   "metadata": {},
   "outputs": [],
   "source": [
    "class Product:\n",
    "    def __init__(self, name, price, quantity):\n",
    "        self.name = name\n",
    "        self.price = price\n",
    "        self.quantity = quantity\n",
    "    def total_price(self):\n",
    "        return self.price * self.quantity"
   ]
  },
  {
   "cell_type": "code",
   "execution_count": 7,
   "id": "1cdcad40-e80c-4e8a-b42c-653ecbdc63de",
   "metadata": {},
   "outputs": [
    {
     "name": "stdout",
     "output_type": "stream",
     "text": [
      "Laptop Total Price: $3500\n",
      "Phone Total Price: $1500\n"
     ]
    }
   ],
   "source": [
    "prod1 = Product(\"Laptop\", 700, 5)\n",
    "prod2 = Product(\"Phone\", 300, 5)\n",
    "print(f\"{prod1.name} Total Price: ${prod1.total_price()}\")\n",
    "print(f\"{prod2.name} Total Price: ${prod2.total_price()}\")"
   ]
  },
  {
   "cell_type": "markdown",
   "id": "52644e5c-bd38-46e9-8424-fce4faa5c823",
   "metadata": {},
   "source": [
    "## Q.16) Create a class Animal with an abstract method sound(). Create two derived classes Cow and Sheep that implement the sound() method."
   ]
  },
  {
   "cell_type": "code",
   "execution_count": 8,
   "id": "881654e8-5c59-44ac-af7e-91cc978fa201",
   "metadata": {},
   "outputs": [],
   "source": [
    "from abc import ABC, abstractmethod\n",
    "class Animal():\n",
    "    @abstractmethod\n",
    "    def sound(self):\n",
    "        pass\n",
    "class Cow(Animal):\n",
    "    def sound(self):\n",
    "        return \"Moo!\"\n",
    "class Goat(Animal):\n",
    "    def sound(self):\n",
    "        return \"Baa!\""
   ]
  },
  {
   "cell_type": "code",
   "execution_count": 9,
   "id": "1434524e-1d12-47d3-8f93-763f819060d2",
   "metadata": {},
   "outputs": [
    {
     "name": "stdout",
     "output_type": "stream",
     "text": [
      "Cow makes the sound: Moo!\n",
      "Goat makes the sound: Baa!\n"
     ]
    }
   ],
   "source": [
    "ani1 = [Cow(), Goat()]\n",
    "for animal in ani1:\n",
    "    print(f\"{animal.__class__.__name__} makes the sound: {animal.sound()}\")"
   ]
  },
  {
   "cell_type": "markdown",
   "id": "af7a0750-a68e-48f0-b69b-6107b1969de0",
   "metadata": {},
   "source": [
    "## Q.17) Create a class Book with attributes title, author, and year_published. Add a method get_book_info() that returns a formatted string with the book's details."
   ]
  },
  {
   "cell_type": "code",
   "execution_count": 12,
   "id": "affb6025-bea5-47b9-b477-92035472d504",
   "metadata": {},
   "outputs": [],
   "source": [
    "class Book:\n",
    "    def __init__(self, title, author, year_published):\n",
    "        self.title = title\n",
    "        self.author = author\n",
    "        self.year_published = year_published\n",
    "    def get_book_info(self):\n",
    "        return(f\"{self.title} by {self.author}, published in {self.year_published}.\")"
   ]
  },
  {
   "cell_type": "code",
   "execution_count": 13,
   "id": "044d9e91-2957-489e-bb8e-15f3bd79a04b",
   "metadata": {},
   "outputs": [
    {
     "name": "stdout",
     "output_type": "stream",
     "text": [
      "Physics Wallah by Alakh Pandey Sir, published in 2020.\n",
      "PW Skills by Alakh Pandey sir, published in 2023.\n"
     ]
    }
   ],
   "source": [
    "book1 = Book(\"Physics Wallah\", \"Alakh Pandey Sir\", 2020)\n",
    "book2 = Book(\"PW Skills\", \"Alakh Pandey sir\", 2023)\n",
    "print(book1.get_book_info())\n",
    "print(book2.get_book_info())"
   ]
  },
  {
   "cell_type": "markdown",
   "id": "c92f16ad-90b9-4e97-9b2e-595938ed3740",
   "metadata": {},
   "source": [
    "## Q.18) Create a class House with attributes address and price. Create a derived class Mansion that adds an attribute number_of_rooms."
   ]
  },
  {
   "cell_type": "code",
   "execution_count": 20,
   "id": "d246bc65-0845-45a9-a885-5753862b03a1",
   "metadata": {},
   "outputs": [],
   "source": [
    "class House:\n",
    "    def __init__(self, address, price):\n",
    "        self.address = address\n",
    "        self.price = price\n",
    "    def display_info(self):\n",
    "        return(f\"House at {self.address}, priced at ${self.price:,}\")\n",
    "class Mansion(House):\n",
    "    def __init__(self, address, price, number_of_rooms):\n",
    "        super().__init__(address, price)\n",
    "        self.number_of_rooms = number_of_rooms\n",
    "    def display_info(self):\n",
    "        return(f\"Mansion at {self.address}, priced at ${self.price:,}, with {self.number_of_rooms} rooms\")"
   ]
  },
  {
   "cell_type": "code",
   "execution_count": 21,
   "id": "4aeb0a62-22b9-431c-ab68-f22ced8ab355",
   "metadata": {},
   "outputs": [
    {
     "name": "stdout",
     "output_type": "stream",
     "text": [
      "House at 24 School Road, priced at $800,000\n",
      "Mansion at Luxury Vila 5, priced at $2,000,000, with 15 rooms\n"
     ]
    }
   ],
   "source": [
    "house1 = House(\"24 School Road\", 800000)\n",
    "mans1 = Mansion(\"Luxury Vila 5\", 2000000, 15)\n",
    "print(house1.display_info())\n",
    "print(mans1.display_info())"
   ]
  },
  {
   "cell_type": "raw",
   "id": "03fb4faa-9c52-45ab-bc25-fbbe49d7955d",
   "metadata": {},
   "source": [
    "------------------------------------------------------------------------------------------------------------------------"
   ]
  }
 ],
 "metadata": {
  "kernelspec": {
   "display_name": "Python 3 (ipykernel)",
   "language": "python",
   "name": "python3"
  },
  "language_info": {
   "codemirror_mode": {
    "name": "ipython",
    "version": 3
   },
   "file_extension": ".py",
   "mimetype": "text/x-python",
   "name": "python",
   "nbconvert_exporter": "python",
   "pygments_lexer": "ipython3",
   "version": "3.12.7"
  }
 },
 "nbformat": 4,
 "nbformat_minor": 5
}
